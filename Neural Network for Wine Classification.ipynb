{
 "cells": [
  {
   "cell_type": "code",
   "execution_count": 228,
   "metadata": {
    "collapsed": true
   },
   "outputs": [],
   "source": [
    "import numpy as np\n",
    "import matplotlib as plt\n",
    "import pandas as pd"
   ]
  },
  {
   "cell_type": "code",
   "execution_count": 229,
   "metadata": {},
   "outputs": [
    {
     "data": {
      "text/html": [
       "<div>\n",
       "<style>\n",
       "    .dataframe thead tr:only-child th {\n",
       "        text-align: right;\n",
       "    }\n",
       "\n",
       "    .dataframe thead th {\n",
       "        text-align: left;\n",
       "    }\n",
       "\n",
       "    .dataframe tbody tr th {\n",
       "        vertical-align: top;\n",
       "    }\n",
       "</style>\n",
       "<table border=\"1\" class=\"dataframe\">\n",
       "  <thead>\n",
       "    <tr style=\"text-align: right;\">\n",
       "      <th></th>\n",
       "      <th>fixed acidity</th>\n",
       "      <th>volatile acidity</th>\n",
       "      <th>citric acid</th>\n",
       "      <th>residual sugar</th>\n",
       "      <th>chlorides</th>\n",
       "      <th>free sulfur dioxide</th>\n",
       "      <th>total sulfur dioxide</th>\n",
       "      <th>density</th>\n",
       "      <th>pH</th>\n",
       "      <th>sulphates</th>\n",
       "      <th>alcohol</th>\n",
       "      <th>quality</th>\n",
       "    </tr>\n",
       "  </thead>\n",
       "  <tbody>\n",
       "    <tr>\n",
       "      <th>0</th>\n",
       "      <td>7.4</td>\n",
       "      <td>0.70</td>\n",
       "      <td>0.00</td>\n",
       "      <td>1.9</td>\n",
       "      <td>0.076</td>\n",
       "      <td>11.0</td>\n",
       "      <td>34.0</td>\n",
       "      <td>0.9978</td>\n",
       "      <td>3.51</td>\n",
       "      <td>0.56</td>\n",
       "      <td>9.4</td>\n",
       "      <td>5</td>\n",
       "    </tr>\n",
       "    <tr>\n",
       "      <th>1</th>\n",
       "      <td>7.8</td>\n",
       "      <td>0.88</td>\n",
       "      <td>0.00</td>\n",
       "      <td>2.6</td>\n",
       "      <td>0.098</td>\n",
       "      <td>25.0</td>\n",
       "      <td>67.0</td>\n",
       "      <td>0.9968</td>\n",
       "      <td>3.20</td>\n",
       "      <td>0.68</td>\n",
       "      <td>9.8</td>\n",
       "      <td>5</td>\n",
       "    </tr>\n",
       "    <tr>\n",
       "      <th>2</th>\n",
       "      <td>7.8</td>\n",
       "      <td>0.76</td>\n",
       "      <td>0.04</td>\n",
       "      <td>2.3</td>\n",
       "      <td>0.092</td>\n",
       "      <td>15.0</td>\n",
       "      <td>54.0</td>\n",
       "      <td>0.9970</td>\n",
       "      <td>3.26</td>\n",
       "      <td>0.65</td>\n",
       "      <td>9.8</td>\n",
       "      <td>5</td>\n",
       "    </tr>\n",
       "    <tr>\n",
       "      <th>3</th>\n",
       "      <td>11.2</td>\n",
       "      <td>0.28</td>\n",
       "      <td>0.56</td>\n",
       "      <td>1.9</td>\n",
       "      <td>0.075</td>\n",
       "      <td>17.0</td>\n",
       "      <td>60.0</td>\n",
       "      <td>0.9980</td>\n",
       "      <td>3.16</td>\n",
       "      <td>0.58</td>\n",
       "      <td>9.8</td>\n",
       "      <td>6</td>\n",
       "    </tr>\n",
       "    <tr>\n",
       "      <th>4</th>\n",
       "      <td>7.4</td>\n",
       "      <td>0.70</td>\n",
       "      <td>0.00</td>\n",
       "      <td>1.9</td>\n",
       "      <td>0.076</td>\n",
       "      <td>11.0</td>\n",
       "      <td>34.0</td>\n",
       "      <td>0.9978</td>\n",
       "      <td>3.51</td>\n",
       "      <td>0.56</td>\n",
       "      <td>9.4</td>\n",
       "      <td>5</td>\n",
       "    </tr>\n",
       "  </tbody>\n",
       "</table>\n",
       "</div>"
      ],
      "text/plain": [
       "   fixed acidity  volatile acidity  citric acid  residual sugar  chlorides  \\\n",
       "0            7.4              0.70         0.00             1.9      0.076   \n",
       "1            7.8              0.88         0.00             2.6      0.098   \n",
       "2            7.8              0.76         0.04             2.3      0.092   \n",
       "3           11.2              0.28         0.56             1.9      0.075   \n",
       "4            7.4              0.70         0.00             1.9      0.076   \n",
       "\n",
       "   free sulfur dioxide  total sulfur dioxide  density    pH  sulphates  \\\n",
       "0                 11.0                  34.0   0.9978  3.51       0.56   \n",
       "1                 25.0                  67.0   0.9968  3.20       0.68   \n",
       "2                 15.0                  54.0   0.9970  3.26       0.65   \n",
       "3                 17.0                  60.0   0.9980  3.16       0.58   \n",
       "4                 11.0                  34.0   0.9978  3.51       0.56   \n",
       "\n",
       "   alcohol  quality  \n",
       "0      9.4        5  \n",
       "1      9.8        5  \n",
       "2      9.8        5  \n",
       "3      9.8        6  \n",
       "4      9.4        5  "
      ]
     },
     "execution_count": 229,
     "metadata": {},
     "output_type": "execute_result"
    }
   ],
   "source": [
    "df = pd.read_csv('winequality-red.csv')\n",
    "\n",
    "df.head()"
   ]
  },
  {
   "cell_type": "code",
   "execution_count": 230,
   "metadata": {},
   "outputs": [
    {
     "data": {
      "text/html": [
       "<div>\n",
       "<style>\n",
       "    .dataframe thead tr:only-child th {\n",
       "        text-align: right;\n",
       "    }\n",
       "\n",
       "    .dataframe thead th {\n",
       "        text-align: left;\n",
       "    }\n",
       "\n",
       "    .dataframe tbody tr th {\n",
       "        vertical-align: top;\n",
       "    }\n",
       "</style>\n",
       "<table border=\"1\" class=\"dataframe\">\n",
       "  <thead>\n",
       "    <tr style=\"text-align: right;\">\n",
       "      <th></th>\n",
       "      <th>fixed acidity</th>\n",
       "      <th>volatile acidity</th>\n",
       "      <th>citric acid</th>\n",
       "      <th>residual sugar</th>\n",
       "      <th>chlorides</th>\n",
       "      <th>free sulfur dioxide</th>\n",
       "      <th>total sulfur dioxide</th>\n",
       "      <th>density</th>\n",
       "      <th>pH</th>\n",
       "      <th>sulphates</th>\n",
       "      <th>alcohol</th>\n",
       "    </tr>\n",
       "  </thead>\n",
       "  <tbody>\n",
       "    <tr>\n",
       "      <th>0</th>\n",
       "      <td>7.4</td>\n",
       "      <td>0.70</td>\n",
       "      <td>0.00</td>\n",
       "      <td>1.9</td>\n",
       "      <td>0.076</td>\n",
       "      <td>11.0</td>\n",
       "      <td>34.0</td>\n",
       "      <td>0.9978</td>\n",
       "      <td>3.51</td>\n",
       "      <td>0.56</td>\n",
       "      <td>9.4</td>\n",
       "    </tr>\n",
       "    <tr>\n",
       "      <th>1</th>\n",
       "      <td>7.8</td>\n",
       "      <td>0.88</td>\n",
       "      <td>0.00</td>\n",
       "      <td>2.6</td>\n",
       "      <td>0.098</td>\n",
       "      <td>25.0</td>\n",
       "      <td>67.0</td>\n",
       "      <td>0.9968</td>\n",
       "      <td>3.20</td>\n",
       "      <td>0.68</td>\n",
       "      <td>9.8</td>\n",
       "    </tr>\n",
       "    <tr>\n",
       "      <th>2</th>\n",
       "      <td>7.8</td>\n",
       "      <td>0.76</td>\n",
       "      <td>0.04</td>\n",
       "      <td>2.3</td>\n",
       "      <td>0.092</td>\n",
       "      <td>15.0</td>\n",
       "      <td>54.0</td>\n",
       "      <td>0.9970</td>\n",
       "      <td>3.26</td>\n",
       "      <td>0.65</td>\n",
       "      <td>9.8</td>\n",
       "    </tr>\n",
       "    <tr>\n",
       "      <th>3</th>\n",
       "      <td>11.2</td>\n",
       "      <td>0.28</td>\n",
       "      <td>0.56</td>\n",
       "      <td>1.9</td>\n",
       "      <td>0.075</td>\n",
       "      <td>17.0</td>\n",
       "      <td>60.0</td>\n",
       "      <td>0.9980</td>\n",
       "      <td>3.16</td>\n",
       "      <td>0.58</td>\n",
       "      <td>9.8</td>\n",
       "    </tr>\n",
       "    <tr>\n",
       "      <th>4</th>\n",
       "      <td>7.4</td>\n",
       "      <td>0.70</td>\n",
       "      <td>0.00</td>\n",
       "      <td>1.9</td>\n",
       "      <td>0.076</td>\n",
       "      <td>11.0</td>\n",
       "      <td>34.0</td>\n",
       "      <td>0.9978</td>\n",
       "      <td>3.51</td>\n",
       "      <td>0.56</td>\n",
       "      <td>9.4</td>\n",
       "    </tr>\n",
       "  </tbody>\n",
       "</table>\n",
       "</div>"
      ],
      "text/plain": [
       "   fixed acidity  volatile acidity  citric acid  residual sugar  chlorides  \\\n",
       "0            7.4              0.70         0.00             1.9      0.076   \n",
       "1            7.8              0.88         0.00             2.6      0.098   \n",
       "2            7.8              0.76         0.04             2.3      0.092   \n",
       "3           11.2              0.28         0.56             1.9      0.075   \n",
       "4            7.4              0.70         0.00             1.9      0.076   \n",
       "\n",
       "   free sulfur dioxide  total sulfur dioxide  density    pH  sulphates  \\\n",
       "0                 11.0                  34.0   0.9978  3.51       0.56   \n",
       "1                 25.0                  67.0   0.9968  3.20       0.68   \n",
       "2                 15.0                  54.0   0.9970  3.26       0.65   \n",
       "3                 17.0                  60.0   0.9980  3.16       0.58   \n",
       "4                 11.0                  34.0   0.9978  3.51       0.56   \n",
       "\n",
       "   alcohol  \n",
       "0      9.4  \n",
       "1      9.8  \n",
       "2      9.8  \n",
       "3      9.8  \n",
       "4      9.4  "
      ]
     },
     "execution_count": 230,
     "metadata": {},
     "output_type": "execute_result"
    }
   ],
   "source": [
    "X = df.drop(['quality'],axis = 1)\n",
    "X.head()"
   ]
  },
  {
   "cell_type": "code",
   "execution_count": 231,
   "metadata": {},
   "outputs": [
    {
     "data": {
      "text/plain": [
       "0    3\n",
       "1    3\n",
       "2    3\n",
       "3    4\n",
       "4    3\n",
       "Name: quality, dtype: int64"
      ]
     },
     "execution_count": 231,
     "metadata": {},
     "output_type": "execute_result"
    }
   ],
   "source": [
    "df.loc[df['quality'] == 3,'quality'] = 1\n",
    "df.loc[df['quality'] == 4,'quality'] = 2\n",
    "df.loc[df['quality'] == 5,'quality'] = 3\n",
    "df.loc[df['quality'] == 6,'quality'] = 4\n",
    "df.loc[df['quality'] == 7,'quality'] = 5\n",
    "df.loc[df['quality'] == 8,'quality'] = 6\n",
    "\n",
    "y = df['quality']\n",
    "y.head()\n"
   ]
  },
  {
   "cell_type": "code",
   "execution_count": 232,
   "metadata": {},
   "outputs": [
    {
     "data": {
      "text/plain": [
       "((1599, 11), (1599,))"
      ]
     },
     "execution_count": 232,
     "metadata": {},
     "output_type": "execute_result"
    }
   ],
   "source": [
    "X.shape, y.shape"
   ]
  },
  {
   "cell_type": "code",
   "execution_count": 233,
   "metadata": {},
   "outputs": [
    {
     "data": {
      "text/plain": [
       "(1599, 6)"
      ]
     },
     "execution_count": 233,
     "metadata": {},
     "output_type": "execute_result"
    }
   ],
   "source": [
    "from sklearn.preprocessing import OneHotEncoder  \n",
    "encoder = OneHotEncoder(sparse = False)\n",
    "y = y[:,np.newaxis]\n",
    "y_onehot = encoder.fit_transform(y)\n",
    "y_onehot.shape\n",
    "\n"
   ]
  },
  {
   "cell_type": "code",
   "execution_count": 234,
   "metadata": {},
   "outputs": [
    {
     "data": {
      "text/plain": [
       "(array([3], dtype=int64), array([ 0.,  0.,  1.,  0.,  0.,  0.]))"
      ]
     },
     "execution_count": 234,
     "metadata": {},
     "output_type": "execute_result"
    }
   ],
   "source": [
    "#Show coordinate mapping\n",
    "y[0], y_onehot[0,:]"
   ]
  },
  {
   "cell_type": "code",
   "execution_count": 235,
   "metadata": {
    "collapsed": true
   },
   "outputs": [],
   "source": [
    "def sigmoid(z):\n",
    "    return 1/(1+np.exp(-z))\n",
    "\n",
    "def forward_propogate(X,theta1,theta2):\n",
    "    m = X.shape[0]\n",
    "    a1 = np.insert(X,0,values=np.ones(m),axis=1)\n",
    "    z2 = a1 * theta1.T\n",
    "    a2 = np.insert(sigmoid(z2),0,values=np.ones(m), axis=1)\n",
    "    z3 = a2*theta2.T\n",
    "    h = sigmoid(z3)\n",
    "    \n",
    "    return a1,z2,a2,z3,h\n",
    "\n",
    "def cost(params, input_size, hidden_size, num_labels, X, y, learning_rate):  \n",
    "    m = X.shape[0]\n",
    "    X = np.matrix(X)\n",
    "    y = np.matrix(y)\n",
    "\n",
    "    # reshape the parameter array into parameter matrices for each layer\n",
    "    theta1 = np.matrix(np.reshape(params[:hidden_size * (input_size + 1)], (hidden_size, (input_size + 1))))\n",
    "    theta2 = np.matrix(np.reshape(params[hidden_size * (input_size + 1):], (num_labels, (hidden_size + 1))))\n",
    "\n",
    "    # run the feed-forward pass\n",
    "    a1, z2, a2, z3, h = forward_propogate(X, theta1, theta2)\n",
    "\n",
    "    # compute the cost\n",
    "    J = 0\n",
    "    for i in range(m):\n",
    "        first_term = np.multiply(-y[i,:], np.log(h[i,:]))\n",
    "        second_term = np.multiply((1 - y[i,:]), np.log(1 - h[i,:]))\n",
    "        J += np.sum(first_term - second_term)\n",
    "\n",
    "    J = J / m\n",
    "    J += (float(learning_rate) / (2 * m)) * (np.sum(np.power(theta1[:,1:], 2)) + np.sum(np.power(theta2[:,1:], 2)))  \n",
    "    return J"
   ]
  },
  {
   "cell_type": "code",
   "execution_count": 236,
   "metadata": {},
   "outputs": [
    {
     "data": {
      "text/plain": [
       "((8, 12), (6, 9))"
      ]
     },
     "execution_count": 236,
     "metadata": {},
     "output_type": "execute_result"
    }
   ],
   "source": [
    "#Setup\n",
    "\n",
    "input_size = 11\n",
    "hidden_size = 8\n",
    "num_labels = 6\n",
    "learning_rate = 1.3\n",
    "params = (np.random.random(size=hidden_size * (input_size + 1) + num_labels * (hidden_size + 1)) - 0.5) * 0.25\n",
    "\n",
    "m = X.shape[0]\n",
    "X = np.matrix(X)\n",
    "y = np.matrix(y)\n",
    "\n",
    "theta1 = np.matrix(np.reshape(params[:hidden_size * (input_size + 1)], (hidden_size, (input_size + 1))))  \n",
    "theta2 = np.matrix(np.reshape(params[hidden_size * (input_size + 1):], (num_labels, (hidden_size + 1))))\n",
    "\n",
    "theta1.shape, theta2.shape"
   ]
  },
  {
   "cell_type": "code",
   "execution_count": 237,
   "metadata": {},
   "outputs": [
    {
     "data": {
      "text/plain": [
       "4.2932632793132051"
      ]
     },
     "execution_count": 237,
     "metadata": {},
     "output_type": "execute_result"
    }
   ],
   "source": [
    "cost(params, input_size, hidden_size, num_labels, X, y_onehot, learning_rate)\n"
   ]
  },
  {
   "cell_type": "code",
   "execution_count": 238,
   "metadata": {
    "collapsed": true
   },
   "outputs": [],
   "source": [
    "def sigmoid_gradient(z):  \n",
    "    return np.multiply(sigmoid(z), (1 - sigmoid(z)))"
   ]
  },
  {
   "cell_type": "code",
   "execution_count": 239,
   "metadata": {
    "collapsed": true
   },
   "outputs": [],
   "source": [
    "def backprop(params, input_size, hidden_size, num_labels, X, y, learning_rate):  \n",
    "\n",
    "    m = X.shape[0]\n",
    "    X = np.matrix(X)\n",
    "    y = np.matrix(y)\n",
    "\n",
    "    theta1 = np.matrix(np.reshape(params[:hidden_size * (input_size + 1)], (hidden_size, (input_size + 1))))\n",
    "    theta2 = np.matrix(np.reshape(params[hidden_size * (input_size + 1):], (num_labels, (hidden_size + 1))))\n",
    "\n",
    "    # run the feed-forward pass\n",
    "    a1, z2, a2, z3, h = forward_propogate(X, theta1, theta2)\n",
    "\n",
    "    # initializations\n",
    "    J = 0\n",
    "    delta1 = np.zeros(theta1.shape)  # (25, 401)\n",
    "    delta2 = np.zeros(theta2.shape)  # (10, 26)\n",
    "\n",
    "    # compute the cost\n",
    "    for i in range(m):\n",
    "        first_term = np.multiply(-y[i,:], np.log(h[i,:]))\n",
    "        second_term = np.multiply((1 - y[i,:]), np.log(1 - h[i,:]))\n",
    "        J += np.sum(first_term - second_term)\n",
    "\n",
    "    J = J / m\n",
    "\n",
    "    # add the cost regularization term\n",
    "    J += (float(learning_rate) / (2 * m)) * (np.sum(np.power(theta1[:,1:], 2)) + np.sum(np.power(theta2[:,1:], 2)))\n",
    "\n",
    "    ##### end of cost function logic, below is the new part #####\n",
    "\n",
    "    # perform backpropagation\n",
    "    for t in range(m):\n",
    "        a1t = a1[t,:]  # (1, 401)\n",
    "        z2t = z2[t,:]  # (1, 25)\n",
    "        a2t = a2[t,:]  # (1, 26)\n",
    "        ht = h[t,:]  # (1, 10)\n",
    "        yt = y[t,:]  # (1, 10)\n",
    "\n",
    "        d3t = ht - yt  # (1, 10)\n",
    "\n",
    "        z2t = np.insert(z2t, 0, values=np.ones(1))  # (1, 26)\n",
    "        d2t = np.multiply((theta2.T * d3t.T).T, sigmoid_gradient(z2t))  # (1, 26)\n",
    "\n",
    "        delta1 = delta1 + (d2t[:,1:]).T * a1t\n",
    "        delta2 = delta2 + d3t.T * a2t\n",
    "\n",
    "    delta1 = delta1 / m\n",
    "    delta2 = delta2 / m\n",
    "\n",
    "    # add the gradient regularization term\n",
    "    delta1[:,1:] = delta1[:,1:] + (theta1[:,1:] * learning_rate) / m\n",
    "    delta2[:,1:] = delta2[:,1:] + (theta2[:,1:] * learning_rate) / m\n",
    "\n",
    "    # unravel the gradient matrices into a single array\n",
    "    grad = np.concatenate((np.ravel(delta1), np.ravel(delta2)))\n",
    "\n",
    "    return J, grad"
   ]
  },
  {
   "cell_type": "code",
   "execution_count": 240,
   "metadata": {},
   "outputs": [
    {
     "data": {
      "text/plain": [
       "(4.2932632793132051, (150,))"
      ]
     },
     "execution_count": 240,
     "metadata": {},
     "output_type": "execute_result"
    }
   ],
   "source": [
    "J, grad = backprop(params, input_size, hidden_size, num_labels, X, y_onehot, learning_rate)  \n",
    "J, grad.shape\n"
   ]
  },
  {
   "cell_type": "code",
   "execution_count": 246,
   "metadata": {},
   "outputs": [
    {
     "name": "stderr",
     "output_type": "stream",
     "text": [
      "C:\\Users\\Nishant\\Anaconda3\\lib\\site-packages\\ipykernel_launcher.py:2: RuntimeWarning: overflow encountered in exp\n",
      "  \n"
     ]
    },
    {
     "data": {
      "text/plain": [
       "     fun: 1.677648985754759\n",
       "     jac: array([  1.94027426e-04,   8.68354376e-04,  -1.58279271e-04,\n",
       "         6.51660716e-05,   2.00020196e-03,   1.45446393e-04,\n",
       "         5.94991807e-04,   1.10159407e-02,   1.76987581e-04,\n",
       "         5.91948256e-04,   6.43884140e-04,   3.26665720e-03,\n",
       "        -1.59108542e-05,  -7.69165532e-04,  -2.05957574e-04,\n",
       "        -4.21592799e-05,  -1.65300892e-04,  -7.03409918e-06,\n",
       "         2.33495512e-03,   1.10928024e-03,  -9.13476195e-06,\n",
       "         1.56815075e-05,   5.50156195e-05,  -8.78159197e-05,\n",
       "        -5.82331212e-04,   1.76148583e-03,  -7.10934431e-04,\n",
       "        -6.28195255e-04,  -1.19859040e-02,  -3.98476267e-04,\n",
       "        -3.22906958e-03,  -1.65595737e-01,  -1.32150069e-03,\n",
       "        -6.85035965e-03,  -1.59997655e-03,  -3.60740465e-02,\n",
       "        -4.22601373e-04,  -3.08003094e-03,  -2.77133988e-04,\n",
       "        -3.03373357e-05,  -1.45522358e-03,  -2.50720321e-05,\n",
       "        -1.40773014e-03,  -5.90776242e-03,  -4.39822222e-04,\n",
       "        -1.53265284e-03,  -3.33137704e-04,  -4.42442481e-03,\n",
       "        -1.51344098e-03,  -1.25708393e-02,  -8.23507579e-04,\n",
       "        -5.04557494e-05,   1.65287457e-03,  -8.95843225e-05,\n",
       "        -6.44987928e-02,  -1.59615341e-01,  -1.23229499e-03,\n",
       "        -3.26030055e-03,  -1.45051072e-03,  -1.01830631e-02,\n",
       "         4.27098534e-06,   3.23668916e-05,   7.64814678e-07,\n",
       "         7.01278302e-06,  -1.49924336e-05,  -2.35443568e-06,\n",
       "         3.44975964e-05,   9.23143692e-06,   6.08758239e-06,\n",
       "         3.96512998e-06,   1.16364737e-05,   3.62784744e-05,\n",
       "        -1.55345228e-06,   5.70066631e-05,  -3.81032560e-05,\n",
       "         1.60455466e-05,  -7.74463132e-05,  -4.34176710e-07,\n",
       "         3.54535845e-05,   4.41512207e-05,  -5.96204269e-06,\n",
       "        -1.84708376e-05,   2.38338377e-05,  -1.98920421e-05,\n",
       "        -2.04944065e-06,   9.23429599e-05,   7.27836062e-07,\n",
       "         2.40378404e-06,   2.88216751e-05,   8.20006349e-07,\n",
       "         5.11693885e-05,   1.23284384e-04,   1.26121147e-05,\n",
       "         2.57591863e-05,   3.55713282e-06,   1.05049709e-04,\n",
       "        -9.06091541e-04,  -1.02520539e-04,  -3.64079026e-04,\n",
       "        -3.91536677e-04,  -5.80498586e-04,  -1.42598146e-04,\n",
       "        -1.20885716e-04,  -2.08353751e-04,  -1.26111089e-03,\n",
       "        -6.59600723e-04,  -3.39199026e-04,  -2.35624955e-04,\n",
       "        -2.55383326e-05,  -1.25302199e-03,   3.68193673e-04,\n",
       "        -7.96600336e-05,  -5.57323564e-05,  -5.83707392e-04,\n",
       "        -2.09992068e-04,   2.69335021e-04,   4.73232794e-05,\n",
       "         3.68380257e-04,  -2.26431373e-03,  -8.83366336e-04,\n",
       "        -3.09591301e-05,  -1.18408528e-04,  -1.23665800e-04,\n",
       "        -1.27610767e-03,  -2.88625942e-05,   9.18389441e-04,\n",
       "        -1.08198298e-03,  -1.46712820e-03,  -1.79917210e-04,\n",
       "         1.61327011e-05,   1.12618782e-04,  -1.38871334e-03,\n",
       "         9.84354120e-04,  -1.72564467e-04,  -9.34157766e-04,\n",
       "        -1.63810734e-04,   1.21528441e-03,   3.21560862e-05,\n",
       "        -8.61728267e-05,  -2.46187223e-04,   2.22048676e-04,\n",
       "         6.86600130e-04,  -5.28316726e-04,   4.47921291e-05,\n",
       "        -8.01311094e-05,   1.86604055e-04,  -1.91747833e-04,\n",
       "         1.83298750e-06,  -2.75941378e-05,   4.62415702e-05])\n",
       " message: 'Max. number of function evaluations reached'\n",
       "    nfev: 250\n",
       "     nit: 29\n",
       "  status: 3\n",
       " success: False\n",
       "       x: array([ -8.40505616e-03,  -2.46576293e-01,   1.33421426e-01,\n",
       "         2.28440257e-01,   3.97596540e-01,  -4.28291184e-02,\n",
       "        -3.35261007e-01,  -4.23918501e-02,  -2.99150556e-02,\n",
       "        -1.74425007e-01,  -4.68410858e-01,   4.22969357e-01,\n",
       "        -3.62006752e-02,   5.55549868e-06,   1.60961432e-02,\n",
       "        -1.15780186e-02,   5.36076577e-02,   3.67298818e-03,\n",
       "        -8.98153461e-02,   1.10433926e-02,   1.02141614e-02,\n",
       "         2.26495656e-02,  -5.75673606e-03,   4.28354224e-02,\n",
       "        -1.58147290e+00,   7.03488747e-02,  -3.12399051e+00,\n",
       "        -8.93514611e-01,   1.33789521e-01,  -2.34273564e+00,\n",
       "         2.93085690e-02,  -1.05204850e-02,  -1.22559700e+00,\n",
       "        -1.94032492e+00,   2.34476131e+00,   8.14549743e-01,\n",
       "         7.13935695e-02,   6.11377604e-01,  -3.77579206e-01,\n",
       "         2.64531462e-01,  -8.28557834e-01,  -4.63049382e-02,\n",
       "        -2.40226143e-01,   4.74525342e-01,  -2.85725971e-02,\n",
       "        -2.68837607e-01,  -4.20028195e-01,  -6.54678912e-01,\n",
       "         1.03210503e+00,   8.66925327e-02,   3.35888578e-01,\n",
       "         6.23385516e-01,   9.84973434e-02,   1.08193644e+00,\n",
       "         2.19645375e-02,   3.39850904e-02,   4.43714215e-01,\n",
       "         2.10048820e-01,  -2.97802592e-01,  -7.14085493e-01,\n",
       "        -1.06971541e-02,  -2.04147684e-02,   3.22940405e-03,\n",
       "         5.05248912e-03,   1.37158784e-03,  -6.26612819e-03,\n",
       "        -4.35193974e-02,  -1.41748240e-01,   2.94572184e-03,\n",
       "        -1.35564540e-02,   2.83680128e-03,  -2.35842836e-02,\n",
       "        -1.19957463e-02,  -3.17733866e-02,  -2.23457231e-03,\n",
       "        -6.13658892e-03,   2.24100201e-02,  -6.43464304e-03,\n",
       "        -3.75531524e-02,  -8.18810110e-02,  -7.15423877e-03,\n",
       "        -2.34030766e-03,  -2.16122641e-03,  -1.23680469e-02,\n",
       "        -1.63685198e-03,   1.72446225e-01,   3.36926228e-03,\n",
       "         3.50125846e-03,   5.72693143e-02,   9.02485213e-04,\n",
       "         7.62589499e-02,   2.06423020e-01,   2.34445066e-02,\n",
       "         5.22441424e-02,   3.90554031e-03,   1.93307723e-01,\n",
       "        -2.96484169e+00,   1.00487183e+00,   4.12361140e-02,\n",
       "        -2.11741359e+00,  -1.35283194e+00,  -2.90048782e-01,\n",
       "        -3.46210989e-02,   2.85428633e-03,  -5.70097467e-01,\n",
       "        -1.45458201e+00,   4.32157850e-01,   1.66272653e-01,\n",
       "        -2.39995055e+00,  -1.56596006e+00,  -2.60921784e-01,\n",
       "        -8.69720299e-03,   6.05843664e-02,   1.14607125e-01,\n",
       "         2.33887414e-02,   7.52699601e-01,   3.96290712e-02,\n",
       "        -3.78779888e+00,   5.19301511e-01,   2.43294570e+00,\n",
       "        -3.56951587e-03,  -9.87139773e-03,   1.38696577e-01,\n",
       "        -2.41245191e-01,  -1.02999795e+00,  -1.74474546e-01,\n",
       "         1.19887380e+00,   9.78009387e-02,  -2.13763546e+00,\n",
       "        -3.82059095e-02,  -7.46234766e-02,  -1.78369114e-01,\n",
       "        -2.38459318e+00,  -3.79166289e-01,  -1.18427899e-02,\n",
       "         4.84727833e+00,  -8.56371078e-01,  -1.55812966e+00,\n",
       "        -5.64614940e-02,  -5.18459636e-02,  -1.21780457e+00,\n",
       "        -4.02377169e+00,   4.02568917e-02,  -6.61235348e-02,\n",
       "         2.55410866e+00,  -6.12917661e-01,  -1.35793770e+00,\n",
       "        -5.32645950e-02,  -4.94989531e-02,  -1.02164987e+00])"
      ]
     },
     "execution_count": 246,
     "metadata": {},
     "output_type": "execute_result"
    }
   ],
   "source": [
    "from scipy.optimize import minimize\n",
    "\n",
    "# minimize the objective function\n",
    "fmin = minimize(fun=backprop, x0=params, args=(input_size, hidden_size, num_labels, X, y_onehot, learning_rate),  \n",
    "                method='TNC', jac=True, options={'maxiter': 250})\n",
    "fmin  "
   ]
  },
  {
   "cell_type": "code",
   "execution_count": 247,
   "metadata": {
    "scrolled": true
   },
   "outputs": [
    {
     "data": {
      "text/plain": [
       "array([[3],\n",
       "       [3],\n",
       "       [3],\n",
       "       ..., \n",
       "       [4],\n",
       "       [3],\n",
       "       [4]], dtype=int64)"
      ]
     },
     "execution_count": 247,
     "metadata": {},
     "output_type": "execute_result"
    }
   ],
   "source": [
    "X = np.matrix(X)  \n",
    "theta1 = np.matrix(np.reshape(fmin.x[:hidden_size * (input_size + 1)], (hidden_size, (input_size + 1))))  \n",
    "theta2 = np.matrix(np.reshape(fmin.x[hidden_size * (input_size + 1):], (num_labels, (hidden_size + 1))))\n",
    "\n",
    "a1, z2, a2, z3, h = forward_propogate(X, theta1, theta2)  \n",
    "y_pred = np.array(np.argmax(h, axis=1) + 1)  \n",
    "y_pred "
   ]
  },
  {
   "cell_type": "code",
   "execution_count": 248,
   "metadata": {},
   "outputs": [
    {
     "name": "stdout",
     "output_type": "stream",
     "text": [
      "accuracy = 60.47529706066291%\n"
     ]
    }
   ],
   "source": [
    "correct = [1 if a == b else 0 for (a, b) in zip(y_pred, y)]  \n",
    "accuracy = (sum(map(int, correct)) / float(len(correct)))  \n",
    "print ('accuracy = {0}%'.format(accuracy * 100))\n"
   ]
  },
  {
   "cell_type": "code",
   "execution_count": 249,
   "metadata": {},
   "outputs": [
    {
     "data": {
      "text/plain": [
       "matrix([[3],\n",
       "        [3],\n",
       "        [3],\n",
       "        ..., \n",
       "        [4],\n",
       "        [3],\n",
       "        [4]], dtype=int64)"
      ]
     },
     "execution_count": 249,
     "metadata": {},
     "output_type": "execute_result"
    }
   ],
   "source": [
    "y"
   ]
  },
  {
   "cell_type": "code",
   "execution_count": null,
   "metadata": {
    "collapsed": true
   },
   "outputs": [],
   "source": []
  },
  {
   "cell_type": "code",
   "execution_count": null,
   "metadata": {
    "collapsed": true
   },
   "outputs": [],
   "source": []
  }
 ],
 "metadata": {
  "kernelspec": {
   "display_name": "Python 3",
   "language": "python",
   "name": "python3"
  },
  "language_info": {
   "codemirror_mode": {
    "name": "ipython",
    "version": 3
   },
   "file_extension": ".py",
   "mimetype": "text/x-python",
   "name": "python",
   "nbconvert_exporter": "python",
   "pygments_lexer": "ipython3",
   "version": "3.6.3"
  }
 },
 "nbformat": 4,
 "nbformat_minor": 2
}
